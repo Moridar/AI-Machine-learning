{
  "cells": [
    {
      "cell_type": "code",
      "execution_count": null,
      "metadata": {},
      "outputs": [],
      "source": [
        "from google.colab import files\n",
        "uploaded = files.upload()"
      ]
    },
    {
      "cell_type": "code",
      "execution_count": null,
      "metadata": {},
      "outputs": [],
      "source": [
        "import numpy as np"
      ]
    },
    {
      "cell_type": "code",
      "execution_count": null,
      "metadata": {},
      "outputs": [],
      "source": [
        "# Read the data from the CSV file with read from Numpy\n",
        "data = np.genfromtxt(\"Salary_dataset.csv\", delimiter=\",\", skip_header=1)\n",
        "\n",
        "print(data)"
      ]
    },
    {
      "cell_type": "code",
      "execution_count": null,
      "metadata": {},
      "outputs": [],
      "source": [
        "# Separate the features (YearsExperience) from the target variable (Salary)\n",
        "X = data[:, 1]\n",
        "y = data[:, 2]\n",
        "\n",
        "X = X.reshape(-1, 1)\n",
        "print(X, y)"
      ]
    },
    {
      "cell_type": "code",
      "execution_count": null,
      "metadata": {},
      "outputs": [],
      "source": [
        "import matplotlib.pyplot as plt\n",
        "\n",
        "# Let's create a function that displays the point line with the bar.\n",
        "def visualize(theta, X, y):\n",
        "    plt.scatter(X, y)\n",
        "\n",
        "    plt.ylim(-5000, 140000)\n",
        "    plt.xlim(0, 12)\n",
        "    x_line = np.linspace(0, 12, 100)\n",
        "    y_line = theta[0] + theta[1] * x_line\n",
        "    plt.plot(x_line, y_line)\n",
        "    plt.show()"
      ]
    },
    {
      "cell_type": "code",
      "execution_count": null,
      "metadata": {},
      "outputs": [],
      "source": [
        "# Create a function that multiplies each element of the matrix X by the slope of the model (theta[1]),\n",
        "#followed by the addition of the intercept of the model (theta[0]), thus producing the predictions of the simple linear regression model.\n",
        "\n",
        "def predict(X, theta):\n",
        "    return [X * theta[1] + theta[0]]"
      ]
    },
    {
      "cell_type": "code",
      "execution_count": null,
      "metadata": {},
      "outputs": [],
      "source": [
        "def fit(X, y, theta, alpha, num_iters):\n",
        "    # Initialize some useful variables\n",
        "    m = X.shape[0]\n",
        "    y = y.reshape(-1, 1)\n",
        "\n",
        "    # Loop over the number of iterations\n",
        "    for _ in range(num_iters):\n",
        "        predictions = predict(X, theta)\n",
        "        error = predictions - y\n",
        "        theta[0] -= alpha * (1/m) * np.sum(error)\n",
        "        theta[1] -= alpha * (1/m) * np.sum(X * error)\n",
        "        # Perform one iteration of gradient descent (i.e., update theta once)\n",
        "    return theta"
      ]
    },
    {
      "cell_type": "code",
      "execution_count": null,
      "metadata": {},
      "outputs": [],
      "source": [
        "# Ok, let's test our function now, you should get a result comparable to this one\n",
        "\n",
        "theta = np.zeros(2)\n",
        "\n",
        "visualize(fit(X, y, theta, 0.01, 0), X, y)\n",
        "visualize(fit(X, y, theta, 0.01, 1), X, y)\n",
        "visualize(fit(X, y, theta, 0.01, 2), X, y)\n",
        "visualize(fit(X, y, theta, 0.01, 3), X, y)\n",
        "visualize(fit(X, y, theta, 0.01, 4), X, y)\n",
        "visualize(fit(X, y, theta, 0.01, 1000), X, y)"
      ]
    }
  ],
  "metadata": {
    "colab": {
      "provenance": []
    },
    "kernelspec": {
      "display_name": "Python 3",
      "name": "python3"
    },
    "language_info": {
      "codemirror_mode": {
        "name": "ipython",
        "version": 3
      },
      "file_extension": ".py",
      "mimetype": "text/x-python",
      "name": "python",
      "nbconvert_exporter": "python",
      "pygments_lexer": "ipython3",
      "version": "3.11.9"
    }
  },
  "nbformat": 4,
  "nbformat_minor": 0
}
