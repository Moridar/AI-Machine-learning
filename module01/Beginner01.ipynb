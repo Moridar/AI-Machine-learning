{
  "nbformat": 4,
  "nbformat_minor": 0,
  "metadata": {
    "colab": {
      "provenance": []
    },
    "kernelspec": {
      "name": "python3",
      "display_name": "Python 3"
    },
    "language_info": {
      "name": "python"
    }
  },
  "cells": [
    {
      "cell_type": "code",
      "execution_count": null,
      "metadata": {
        "id": "OHYKRHBrvVFG",
        "collapsed": true
      },
      "outputs": [],
      "source": [
        "from google.colab import files\n",
        "uploaded = files.upload()"
      ]
    },
    {
      "cell_type": "code",
      "source": [
        "import numpy as np"
      ],
      "metadata": {
        "id": "tqtyB2kZvbGG"
      },
      "execution_count": null,
      "outputs": []
    },
    {
      "cell_type": "code",
      "source": [
        "# Read the data from the CSV file with read from Numpy\n",
        "data = np.genfromtxt(\"Salary_dataset.csv\", delimiter=\",\", skip_header=1)\n",
        "\n",
        "print(data)"
      ],
      "metadata": {
        "id": "SODOULDgvmT7"
      },
      "execution_count": null,
      "outputs": []
    },
    {
      "cell_type": "code",
      "source": [
        "# Separate the features (YearsExperience) from the target variable (Salary)\n",
        "X = data[:, 1]\n",
        "y = data[:, 2]\n",
        "\n",
        "# X = X.reshape(-1, 1)\n",
        "print(X, y)"
      ],
      "metadata": {
        "id": "F_AKhsq3wbZj"
      },
      "execution_count": null,
      "outputs": []
    },
    {
      "cell_type": "code",
      "source": [
        "#This time seaborn is forbidden, you have to find a library that works with numpy\n",
        "import matplotlib.pyplot as plt\n",
        "\n",
        "plt.scatter(X, y);"
      ],
      "metadata": {
        "id": "LNKmC0-8ASF8"
      },
      "execution_count": null,
      "outputs": []
    },
    {
      "cell_type": "code",
      "source": [
        "# Let's create a function that displays the point line with the bar.\n",
        "def visualize(theta, X, y):\n",
        "    plt.scatter(X, y)\n",
        "\n",
        "    plt.ylim(-5000, 140000)\n",
        "    plt.xlim(0, 12)\n",
        "    x_line = np.linspace(0, 12, 100)\n",
        "    y_line = theta[0] + theta[1] * x_line\n",
        "    plt.plot(x_line, y_line)\n",
        "    plt.show()"
      ],
      "metadata": {
        "id": "QX0jL2qC9LvH"
      },
      "execution_count": null,
      "outputs": []
    },
    {
      "cell_type": "code",
      "source": [
        "# Ok, let's test our function now, you should get a result comparable to this one\n",
        "\n",
        "theta = np.zeros(2)\n",
        "visualize(theta, X, y)"
      ],
      "metadata": {
        "id": "A5e1X3ojyWTN"
      },
      "execution_count": null,
      "outputs": []
    },
    {
      "cell_type": "code",
      "source": [
        "# Create a function that multiplies each element of the matrix X by the slope of the model (theta[1]),\n",
        "#followed by the addition of the intercept of the model (theta[0]), thus producing the predictions of the simple linear regression model.\n",
        "\n",
        "def predict(X, theta):\n",
        "    return [X * theta[1] + theta[0]]"
      ],
      "metadata": {
        "id": "Q4nI8REi8gsj"
      },
      "execution_count": null,
      "outputs": []
    },
    {
      "cell_type": "code",
      "source": [
        "def fit(X, y, theta, alpha, num_iters):\n",
        "    # Initialize some useful variables\n",
        "    m = X.shape[0]\n",
        "\n",
        "    # Loop over the number of iterations\n",
        "    for _ in range(num_iters):\n",
        "        predictions = predict(X, theta)\n",
        "        error = predictions - y\n",
        "        theta[0] -= alpha * (1/m) * np.sum(error)\n",
        "        theta[1] -= alpha * (1/m) * np.sum(X * error)\n",
        "        # Perform one iteration of gradient descent (i.e., update theta once)\n",
        "    return theta"
      ],
      "metadata": {
        "id": "bf74-Nv58-F5"
      },
      "execution_count": null,
      "outputs": []
    },
    {
      "cell_type": "code",
      "source": [
        "# To begin, we'll set alpha to 0.01 and num_iters to 1000\n",
        "\n",
        "theta = np.zeros(2)\n",
        "finetuned_theta = fit(X, y, theta, 0.01, 1000)\n",
        "print(finetuned_theta)\n",
        "\n",
        "#You should have a result similar to this one: [21912.58918422329, 9880.814004608217]"
      ],
      "metadata": {
        "id": "ovlyLGQG9Fqw",
        "colab": {
          "base_uri": "https://localhost:8080/"
        },
        "outputId": "0a25b78d-f9c1-40d9-c378-8234a9d68d93"
      },
      "execution_count": null,
      "outputs": [
        {
          "output_type": "stream",
          "name": "stdout",
          "text": [
            "[21912.58918422  9880.81400461]\n"
          ]
        }
      ]
    },
    {
      "cell_type": "code",
      "source": [
        "# Ok, let's test our function now, you should get a result comparable to this one\n",
        "\n",
        "theta = np.zeros(2)\n",
        "\n",
        "visualize(fit(X, y, theta, 0.01, 0), X, y)\n",
        "visualize(fit(X, y, theta, 0.01, 1), X, y)\n",
        "visualize(fit(X, y, theta, 0.01, 2), X, y)\n",
        "visualize(fit(X, y, theta, 0.01, 3), X, y)\n",
        "visualize(fit(X, y, theta, 0.01, 4), X, y)\n",
        "visualize(fit(X, y, theta, 0.01, 1000), X, y)"
      ],
      "metadata": {
        "id": "LxwKUQhG9yuJ"
      },
      "execution_count": null,
      "outputs": []
    },
    {
      "cell_type": "code",
      "source": [
        "def cost(X, y, theta):\n",
        "    # Calculate the difference between model predictions and actual target values\n",
        "    predictions = predict(X, theta)\n",
        "    error = y - predictions\n",
        "\n",
        "    # Calculate the squared sum of the loss and scale it by 1/(2 * number of samples)\n",
        "    cost = np.sum(error ** 2) * (1 / (2 * error.shape[1]))\n",
        "\n",
        "    # Return the computed cost as a measure of model fit\n",
        "    return cost\n"
      ],
      "metadata": {
        "id": "3CfsYtv_907T"
      },
      "execution_count": null,
      "outputs": []
    },
    {
      "cell_type": "code",
      "source": [
        "# Test it with theta = [0,0]. You should get approximately 3251553638.\n",
        "\n",
        "cost_for_theta_zero = cost(X, y, [0, 0])\n",
        "print(cost_for_theta_zero)"
      ],
      "metadata": {
        "id": "A8KQxD70LizQ",
        "collapsed": true
      },
      "execution_count": null,
      "outputs": []
    },
    {
      "cell_type": "code",
      "source": [
        "def fit_with_cost(X, y, theta, alpha, num_iters):\n",
        "    m = X.shape[0]  # Number of training examples\n",
        "    J_history = []  # List to store cost values at each iteration\n",
        "\n",
        "    # Loop over the specified number of iterations\n",
        "    for itr in range(num_iters):\n",
        "        # Calculate the loss (difference between predictions and actual values)\n",
        "        predictions = predict(X, theta)\n",
        "        error = y - predictions\n",
        "\n",
        "        # Update the temporary values of theta for both coefficients using the gradient descent formula\n",
        "\n",
        "        # Update the theta values\n",
        "\n",
        "        # Calculate and append the cost for the current theta values to the history list\n",
        "        cost = np.sum(error ** 2) * (1 / (2 * error.shape[1]))\n",
        "        J_history.append(cost)\n",
        "\n",
        "        # Perform one iteration of gradient descent (update theta values)\n",
        "        theta[0] += alpha * (1/m) * np.sum(error)\n",
        "        theta[1] += alpha * (1/m) * np.sum(X * error)\n",
        "\n",
        "    # Return the final theta values and the list of cost values over iterations\n",
        "    return (theta, J_history)"
      ],
      "metadata": {
        "id": "qlV8-dEKLnFU"
      },
      "execution_count": null,
      "outputs": []
    },
    {
      "cell_type": "code",
      "source": [
        "# First, we initialize theta to zero\n",
        "theta = np.zeros(2)\n",
        "\n",
        "# Start the training using your new function\n",
        "theta, J_history = fit_with_cost(X, y, theta, 0.001, 100)\n",
        "\n",
        "print(theta, J_history)"
      ],
      "metadata": {
        "id": "EgdlGZmzL66I"
      },
      "execution_count": null,
      "outputs": []
    },
    {
      "cell_type": "code",
      "source": [
        "#You have to reproduce this graph\n",
        "plt.plot(J_history)\n",
        "plt.title(\"Cost Value Over Iterations\")\n",
        "plt.xlabel(\"Iteration\")\n",
        "plt.ylabel(\"Cost\")\n",
        "plt.show()"
      ],
      "metadata": {
        "id": "l-3ruhFcN5cm"
      },
      "execution_count": null,
      "outputs": []
    },
    {
      "cell_type": "code",
      "source": [
        "# Years of experience of the person you want to predict the salary for\n",
        "years_experience = 10\n",
        "\n",
        "# Predict the salary\n",
        "predicted_salary = predict(years_experience, theta)[0]\n",
        "\n",
        "# Display the predicted salary\n",
        "print(\"Predicted salary for {} years of experience {}\".format(years_experience, predicted_salary))"
      ],
      "metadata": {
        "id": "LiIFDR-XOBgb",
        "colab": {
          "base_uri": "https://localhost:8080/"
        },
        "outputId": "4c4f3001-b2da-458f-8b2b-5f7f4ec4dfb7"
      },
      "execution_count": null,
      "outputs": [
        {
          "output_type": "stream",
          "name": "stdout",
          "text": [
            "Predicted salary for 10 years of experience 127134.91360616997\n"
          ]
        }
      ]
    }
  ]
}