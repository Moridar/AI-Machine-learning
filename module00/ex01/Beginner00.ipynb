{
  "cells": [
    {
      "cell_type": "code",
      "execution_count": null,
      "metadata": {
        "id": "vJJ7d36dKkrT"
      },
      "outputs": [],
      "source": [
        "import pandas as pd\n",
        "import seaborn as sns\n",
        "from sklearn.linear_model import LinearRegression\n",
        "\n",
        "df = pd.read_csv(\"Salary dataset.csv\")\n",
        "X = df[[\"YearsExperience\"]]\n",
        "y = df[\"Salary\"]\n",
        "\n",
        "model = LinearRegression()\n",
        "model.fit(X, y)\n",
        "\n",
        "df[\"predicted\"] = model.predict(X)\n",
        "\n",
        "sns.set_style(\"darkgrid\")\n",
        "\n",
        "lm = sns.lmplot(data=df, x=\"YearsExperience\", y=\"Salary\", aspect = 1.5, height = 8)\n",
        "lm.set_xlabels(\"Years of Experience\")\n",
        "lm.fig.suptitle(\"Linear Regression: Years of Experience vs Salary\")\n",
        "lm.tight_layout();\n",
        "\n",
        "# lm = sns.scatterplot(data=df, x=\"YearsExperience\", y=\"Salary\")\n",
        "# lm.figure.set_size_inches(12, 8)\n",
        "# lm.set_title(\"Linear Regression: Years of Experience vs Salary\")\n",
        "# lm.set_xlabel(\"Years of Experience\")\n",
        "# sns.lineplot(data=df, x='YearsExperience', y=predicted, errorbar=('ci', 90), err_kws={'linewidth': 5})\n"
      ]
    }
  ],
  "metadata": {
    "accelerator": "GPU",
    "colab": {
      "gpuType": "T4",
      "provenance": []
    },
    "kernelspec": {
      "display_name": "Python 3",
      "name": "python3"
    },
    "language_info": {
      "name": "python"
    }
  },
  "nbformat": 4,
  "nbformat_minor": 0
}
