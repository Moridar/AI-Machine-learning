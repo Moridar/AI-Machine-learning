{
  "nbformat": 4,
  "nbformat_minor": 0,
  "metadata": {
    "colab": {
      "provenance": [],
      "toc_visible": true
    },
    "kernelspec": {
      "name": "python3",
      "display_name": "Python 3"
    },
    "language_info": {
      "name": "python"
    }
  },
  "cells": [
    {
      "cell_type": "code",
      "source": [
        "from google.colab import files\n",
        "uploaded = files.upload()"
      ],
      "metadata": {
        "id": "boL6Q5AOD1e9"
      },
      "execution_count": null,
      "outputs": []
    },
    {
      "cell_type": "code",
      "source": [
        "import pandas as pd\n",
        "import seaborn as sns\n",
        "\n",
        "df = pd.read_csv(\"Salary dataset.csv\")\n",
        "sns.set_style(\"darkgrid\")\n",
        "jointplot = sns.jointplot(data=df, x=\"YearsExperience\", y=\"Salary\", color='#8172b3')"
      ],
      "metadata": {
        "id": "vJJ7d36dKkrT"
      },
      "execution_count": null,
      "outputs": []
    },
    {
      "cell_type": "code",
      "source": [
        "import pandas as pd\n",
        "import seaborn as sns\n",
        "from sklearn.linear_model import LinearRegression\n",
        "\n",
        "df = pd.read_csv(\"Salary dataset.csv\")\n",
        "X = df[[\"YearsExperience\"]]\n",
        "y = df[\"Salary\"]\n",
        "\n",
        "model = LinearRegression()\n",
        "model.fit(X, y)\n",
        "\n",
        "df[\"predicted\"] = model.predict(X)\n",
        "\n",
        "sns.set_style(\"darkgrid\")\n",
        "\n",
        "lm = sns.lmplot(data=df, x=\"YearsExperience\", y=\"Salary\", aspect = 1.5, height = 8)\n",
        "lm.set_xlabels(\"Years of Experience\")\n",
        "lm.fig.suptitle(\"Linear Regression: Years of Experience vs Salary\")\n",
        "lm.tight_layout();\n",
        "\n",
        "# lm = sns.scatterplot(data=df, x=\"YearsExperience\", y=\"Salary\")\n",
        "# lm.figure.set_size_inches(12, 8)\n",
        "# lm.set_title(\"Linear Regression: Years of Experience vs Salary\")\n",
        "# lm.set_xlabel(\"Years of Experience\")\n",
        "# sns.lineplot(data=df, x='YearsExperience', y=predicted, errorbar=('ci', 90), err_kws={'linewidth': 5})\n"
      ],
      "metadata": {
        "id": "n9GDQfO9EN-X"
      },
      "execution_count": null,
      "outputs": []
    },
    {
      "cell_type": "code",
      "source": [
        "import pandas as pd\n",
        "from sklearn.linear_model import LinearRegression\n",
        "\n",
        "df = pd.read_csv(\"Salary dataset.csv\")\n",
        "X = df[[\"YearsExperience\"]]\n",
        "y = df[\"Salary\"]\n",
        "\n",
        "regressor = LinearRegression()\n",
        "regressor.fit(X, y)\n",
        "\n",
        "years = [[10]]\n",
        "predicted_salary = regressor.predict(pd.DataFrame(years, columns=['YearsExperience']))\n",
        "\n",
        "print(f'Predicted salary for {years[0][0]} years of experience : {predicted_salary[0]}')"
      ],
      "metadata": {
        "collapsed": true,
        "id": "dcXe3zs5EOlr"
      },
      "execution_count": null,
      "outputs": []
    }
  ]
}