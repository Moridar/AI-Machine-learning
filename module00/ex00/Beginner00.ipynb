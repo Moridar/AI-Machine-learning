{
  "nbformat": 4,
  "nbformat_minor": 0,
  "metadata": {
    "colab": {
      "provenance": [],
      "gpuType": "T4"
    },
    "kernelspec": {
      "name": "python3",
      "display_name": "Python 3"
    },
    "language_info": {
      "name": "python"
    },
    "accelerator": "GPU"
  },
  "cells": [
    {
      "cell_type": "code",
      "source": [
        "import pandas as pd\n",
        "import seaborn as sns\n",
        "\n",
        "df = pd.read_csv(\"Salary dataset.csv\")\n",
        "sns.set_style(\"darkgrid\")\n",
        "jointplot = sns.jointplot(data=df, x=\"YearsExperience\", y=\"Salary\", color='#8172b3')"
      ],
      "metadata": {
        "id": "vJJ7d36dKkrT"
      },
      "execution_count": null,
      "outputs": []
    }
  ]
}