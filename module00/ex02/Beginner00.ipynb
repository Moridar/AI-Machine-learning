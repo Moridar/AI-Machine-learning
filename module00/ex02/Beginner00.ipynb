{
  "cells": [
    {
      "cell_type": "code",
      "execution_count": null,
      "metadata": {
        "colab": {
          "base_uri": "https://localhost:8080/"
        },
        "id": "vJJ7d36dKkrT",
        "outputId": "56c6ab66-f85f-49ff-9dad-bf7ff7f9a0dc"
      },
      "outputs": [],
      "source": [
        "import pandas as pd\n",
        "from sklearn.linear_model import LinearRegression\n",
        "\n",
        "df = pd.read_csv(\"Salary dataset.csv\")\n",
        "X = df[[\"YearsExperience\"]]\n",
        "y = df[\"Salary\"]\n",
        "\n",
        "regressor = LinearRegression()\n",
        "regressor.fit(X, y)\n",
        "\n",
        "years = [[10]]\n",
        "predicted_salary = regressor.predict(pd.DataFrame(years, columns=['YearsExperience']))\n",
        "\n",
        "print(f'Predicted salary for {years[0][0]} years of experience : {predicted_salary[0]}')"
      ]
    }
  ],
  "metadata": {
    "accelerator": "GPU",
    "colab": {
      "gpuType": "T4",
      "provenance": []
    },
    "kernelspec": {
      "display_name": "Python 3",
      "name": "python3"
    },
    "language_info": {
      "name": "python"
    }
  },
  "nbformat": 4,
  "nbformat_minor": 0
}
